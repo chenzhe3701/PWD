{
 "cells": [
  {
   "cell_type": "code",
   "execution_count": null,
   "metadata": {
    "collapsed": true
   },
   "outputs": [],
   "source": [
    "%matplotlib inline"
   ]
  },
  {
   "cell_type": "code",
   "execution_count": 2,
   "metadata": {},
   "outputs": [],
   "source": [
    "a = 1"
   ]
  },
  {
   "cell_type": "code",
   "execution_count": 3,
   "metadata": {},
   "outputs": [
    {
     "data": {
      "text/plain": [
       "1"
      ]
     },
     "execution_count": 3,
     "metadata": {},
     "output_type": "execute_result"
    }
   ],
   "source": [
    "a"
   ]
  },
  {
   "cell_type": "code",
   "execution_count": 4,
   "metadata": {},
   "outputs": [],
   "source": [
    "a?"
   ]
  },
  {
   "cell_type": "code",
   "execution_count": 5,
   "metadata": {},
   "outputs": [
    {
     "name": "stdout",
     "output_type": "stream",
     "text": [
      "Object `tensorflow` not found.\n"
     ]
    }
   ],
   "source": [
    "tensorflow?"
   ]
  },
  {
   "cell_type": "code",
   "execution_count": 7,
   "metadata": {},
   "outputs": [],
   "source": [
    "import tensorflow"
   ]
  },
  {
   "cell_type": "code",
   "execution_count": 16,
   "metadata": {},
   "outputs": [
    {
     "name": "stdout",
     "output_type": "stream",
     "text": [
      "Help on package tensorflow:\n\nNAME\n    tensorflow\n\nDESCRIPTION\n    # Copyright 2015 The TensorFlow Authors. All Rights Reserved.\n    #\n    # Licensed under the Apache License, Version 2.0 (the \"License\");\n    # you may not use this file except in compliance with the License.\n    # You may obtain a copy of the License at\n    #\n    #     http://www.apache.org/licenses/LICENSE-2.0\n    #\n    # Unless required by applicable law or agreed to in writing, software\n    # distributed under the License is distributed on an \"AS IS\" BASIS,\n    # WITHOUT WARRANTIES OR CONDITIONS OF ANY KIND, either express or implied.\n    # See the License for the specific language governing permissions and\n    # limitations under the License.\n    # ==============================================================================\n\nPACKAGE CONTENTS\n    contrib (package)\n    core (package)\n    examples (package)\n    python (package)\n    tools (package)\n\nSUBMODULES\n    app\n    bitwise\n    compat\n    data\n    distributions\n    errors\n    estimator\n    feature_column\n    flags\n    gfile\n    graph_util\n    image\n    initializers\n    keras\n    layers\n    linalg\n    logging\n    losses\n    metrics\n    nn\n    profiler\n    python_io\n    pywrap_tensorflow\n    resource_loader\n    saved_model\n    sets\n    spectral\n    summary\n    sysconfig\n    test\n    train\n    user_ops\n\nDATA\n    AUTO_REUSE = <_ReuseMode.AUTO_REUSE: 1>\n    COMPILER_VERSION = 'MSVC'\n    GIT_VERSION = \"b'unknown'\"\n    GRAPH_DEF_VERSION = 24\n    GRAPH_DEF_VERSION_MIN_CONSUMER = 0\n    GRAPH_DEF_VERSION_MIN_PRODUCER = 0\n    QUANTIZED_DTYPES = frozenset({tf.qint8, tf.quint8, tf.qint32, tf.qint8...\n    VERSION = '1.4.0'\n    __compiler_version__ = 'MSVC'\n    __git_version__ = \"b'unknown'\"\n    bfloat16 = tf.bfloat16\n    bool = tf.bool\n    complex128 = tf.complex128\n    complex64 = tf.complex64\n    double = tf.float64\n    float16 = tf.float16\n    float32 = tf.float32\n    float64 = tf.float64\n    half = tf.float16\n    int16 = tf.int16\n    int32 = tf.int32\n    int64 = tf.int64\n    int8 = tf.int8\n    newaxis = None\n    qint16 = tf.qint16\n    qint32 = tf.qint32\n    qint8 = tf.qint8\n    quint16 = tf.quint16\n    quint8 = tf.quint8\n    resource = tf.resource\n    string = tf.string\n    uint16 = tf.uint16\n    uint8 = tf.uint8\n    variant = tf.variant\n\nVERSION\n    1.4.0\n\nFILE\n    d:\\anaconda3\\envs\\tensorflow\\lib\\site-packages\\tensorflow\\__init__.py\n\n\n"
     ]
    }
   ],
   "source": [
    "help(tensorflow)"
   ]
  },
  {
   "cell_type": "code",
   "execution_count": 18,
   "metadata": {},
   "outputs": [
    {
     "ename": "AttributeError",
     "evalue": "module 'tensorflow' has no attribute 'Constant'",
     "traceback": [
      "\u001b[1;31m---------------------------------------------------------------------------\u001b[0m",
      "\u001b[1;31mAttributeError\u001b[0m                            Traceback (most recent call last)",
      "\u001b[1;32m<ipython-input-18-6f9df48298d7>\u001b[0m in \u001b[0;36m<module>\u001b[1;34m()\u001b[0m\n\u001b[1;32m----> 1\u001b[1;33m \u001b[0mprint\u001b[0m\u001b[1;33m(\u001b[0m\u001b[0mtensorflow\u001b[0m\u001b[1;33m.\u001b[0m\u001b[0mConstant\u001b[0m\u001b[1;33m)\u001b[0m\u001b[1;33m\u001b[0m\u001b[0m\n\u001b[0m",
      "\u001b[1;31mAttributeError\u001b[0m: module 'tensorflow' has no attribute 'Constant'"
     ],
     "output_type": "error"
    }
   ],
   "source": [
    "print(tensorflow.Constant)"
   ]
  },
  {
   "cell_type": "code",
   "execution_count": null,
   "metadata": {},
   "outputs": [],
   "source": []
  }
 ],
 "metadata": {
  "kernelspec": {
   "display_name": "Python 2",
   "language": "python",
   "name": "python2"
  },
  "language_info": {
   "codemirror_mode": {
    "name": "ipython",
    "version": 2
   },
   "file_extension": ".py",
   "mimetype": "text/x-python",
   "name": "python",
   "nbconvert_exporter": "python",
   "pygments_lexer": "ipython2",
   "version": "2.7.6"
  }
 },
 "nbformat": 4,
 "nbformat_minor": 0
}
